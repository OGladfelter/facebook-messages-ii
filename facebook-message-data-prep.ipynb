{
 "cells": [
  {
   "cell_type": "markdown",
   "metadata": {},
   "source": [
    "# facebook messages data prep\n",
    "## Author: Oliver Gladfelter\n",
    "### Date: June 2020"
   ]
  },
  {
   "cell_type": "code",
   "execution_count": 1,
   "metadata": {},
   "outputs": [],
   "source": [
    "import pandas as pd\n",
    "import os\n",
    "import json\n",
    "from datetime import datetime"
   ]
  },
  {
   "cell_type": "markdown",
   "metadata": {},
   "source": [
    "# Access Data & Convert to a DataFrame\n",
    "\n",
    "All of my Facebook messages were easily downloadable here: https://www.facebook.com/help/930396167085762?ref=shareable\n",
    "\n",
    "The zip file I downloaded from Facebook was filled with hundreds of sub-files, one for each Facebook friend I've ever messaged with. Within each sub-file was a file called 'messages.json', which contained the data of interest. "
   ]
  },
  {
   "cell_type": "code",
   "execution_count": 47,
   "metadata": {},
   "outputs": [],
   "source": [
    "def scan_folder(parent):\n",
    "    \n",
    "    filesList = []\n",
    "    # iterate over all the files in directory 'parent'\n",
    "    for folder in os.listdir(parent):\n",
    "        \n",
    "        # for each file, create a direct access to the message.json files\n",
    "        path_to_folder = \"\".join((parent, \"/\", folder))\n",
    "        \n",
    "        # access all message.json files in folder. 99% of the time there will only be one, occasionally 2-4\n",
    "        folder_files = os.listdir(path_to_folder)\n",
    "        \n",
    "        for file in folder_files:\n",
    "            if 'message' in file: # if the file has 'message' in its name\n",
    "                direct_path_to_messages = \"\".join((path_to_folder, \"/\", file)) # create a direct path to this file\n",
    "                filesList.append(direct_path_to_messages) # and append to filesList array\n",
    "        \n",
    "    return filesList\n",
    "\n",
    "def newFriendMessage(message):\n",
    "    \"\"\" \n",
    "    Function to identify messages that Facebook automatically injects,\n",
    "    useful for removing from the dataset\n",
    "    \"\"\"\n",
    "    if \"Say hi to your new Facebook friend\" in message:\n",
    "        return 1\n",
    "    else:\n",
    "        return 0"
   ]
  },
  {
   "cell_type": "code",
   "execution_count": 77,
   "metadata": {},
   "outputs": [],
   "source": [
    "files = scan_folder(\"facebook-olivergladfelter/messages/inbox\")\n",
    "\n",
    "# Reading the json as a dict\n",
    "data = []\n",
    "\n",
    "for file in files:\n",
    "    # for each file, read it as a dictionary and add it to the data list\n",
    "    with open(file) as json_data:\n",
    "        data = data + json.load(json_data)['messages']\n",
    "        \n",
    "# convert to DF\n",
    "dataDF = pd.DataFrame(data)\n",
    "\n",
    "# filter to columns\n",
    "dataDF = dataDF[['sender_name','timestamp_ms','content','type']]\n",
    "\n",
    "# remove calls and subscribe/unsubscribe notifications\n",
    "dataDF = dataDF[dataDF['type']!='Call']\n",
    "dataDF = dataDF[dataDF['type']!='Unsubscribe']\n",
    "dataDF = dataDF[dataDF['type']!='Subscribe']\n",
    "\n",
    "del dataDF['type']\n",
    "\n",
    "# find and remove new friend messages\n",
    "dataDF['newFriendMessage'] = dataDF['content'].apply(newFriendMessage)\n",
    "dataDF = dataDF[dataDF['newFriendMessage'] != 1]\n",
    "del dataDF['newFriendMessage']\n",
    "\n",
    "# remove messages from games\n",
    "dataDF = dataDF[dataDF['sender_name']!=\"8 Ball Pool Game\"]\n",
    "dataDF = dataDF[dataDF['sender_name']!=\"Instant Chess\"]\n",
    "\n",
    "# sort chronologically\n",
    "dataDF = dataDF.sort_values('timestamp_ms')\n",
    "dataDF = dataDF.reset_index()\n",
    "del dataDF['index']"
   ]
  },
  {
   "cell_type": "code",
   "execution_count": 175,
   "metadata": {
    "scrolled": true
   },
   "outputs": [
    {
     "name": "stdout",
     "output_type": "stream",
     "text": [
      "This dataframe contains 233622 messages\n"
     ]
    }
   ],
   "source": [
    "print(\"This dataframe contains\", len(dataDF), \"messages\")"
   ]
  },
  {
   "cell_type": "markdown",
   "metadata": {},
   "source": [
    "# Create year, month, day, time columns from timestamp_ms"
   ]
  },
  {
   "cell_type": "code",
   "execution_count": 187,
   "metadata": {},
   "outputs": [],
   "source": [
    "# convert time stamp to 4 columns - year, month, day, time\n",
    "\n",
    "def getDateAndTime(value):\n",
    "    dateAndTime = datetime.fromtimestamp(value / 1000).isoformat().split('T')\n",
    "    time = dateAndTime[1]\n",
    "    date = dateAndTime[0].split('-')\n",
    "    year = date[0]\n",
    "    month = date[1]\n",
    "    day = date[2]\n",
    "    \n",
    "    return [year, month, day, time]\n",
    "\n",
    "def getYear(value):\n",
    "    return value[0]\n",
    "\n",
    "def getMonth(value):\n",
    "    return value[1]\n",
    "\n",
    "def getDay(value):\n",
    "    return value[2]\n",
    "\n",
    "def getTime(value):\n",
    "    return value[3]\n",
    "    \n",
    "dataDF['dateAndTime'] = dataDF['timestamp_ms'].apply(getDateAndTime)\n",
    "dataDF['year'] = dataDF['dateAndTime'].apply(getYear)\n",
    "dataDF['month'] = dataDF['dateAndTime'].apply(getMonth)\n",
    "dataDF['day'] = dataDF['dateAndTime'].apply(getDay)\n",
    "dataDF['time'] = dataDF['dateAndTime'].apply(getTime)\n",
    "\n",
    "del dataDF['dateAndTime']"
   ]
  },
  {
   "cell_type": "code",
   "execution_count": 192,
   "metadata": {},
   "outputs": [],
   "source": [
    "dataDF.to_csv(\"facebookMessages.csv\")"
   ]
  }
 ],
 "metadata": {
  "kernelspec": {
   "display_name": "Python 3",
   "language": "python",
   "name": "python3"
  },
  "language_info": {
   "codemirror_mode": {
    "name": "ipython",
    "version": 3
   },
   "file_extension": ".py",
   "mimetype": "text/x-python",
   "name": "python",
   "nbconvert_exporter": "python",
   "pygments_lexer": "ipython3",
   "version": "3.7.4"
  }
 },
 "nbformat": 4,
 "nbformat_minor": 2
}
